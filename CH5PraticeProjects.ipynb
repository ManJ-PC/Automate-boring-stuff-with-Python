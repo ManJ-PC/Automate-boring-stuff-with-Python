{
 "cells": [
  {
   "cell_type": "code",
   "execution_count": 29,
   "metadata": {},
   "outputs": [],
   "source": [
    "chessBoard = {'1h': 'bking', '6c': 'wqueen', '2g': 'bbishop', '5h': 'bqueen', '3e': 'wking', '3a': 'bbishop'} # dict = 'string values':  # player inventory"
   ]
  },
  {
   "cell_type": "code",
   "execution_count": 6,
   "metadata": {},
   "outputs": [
    {
     "data": {
      "text/plain": [
       "['__class__',\n",
       " '__class_getitem__',\n",
       " '__contains__',\n",
       " '__delattr__',\n",
       " '__delitem__',\n",
       " '__dir__',\n",
       " '__doc__',\n",
       " '__eq__',\n",
       " '__format__',\n",
       " '__ge__',\n",
       " '__getattribute__',\n",
       " '__getitem__',\n",
       " '__gt__',\n",
       " '__hash__',\n",
       " '__init__',\n",
       " '__init_subclass__',\n",
       " '__ior__',\n",
       " '__iter__',\n",
       " '__le__',\n",
       " '__len__',\n",
       " '__lt__',\n",
       " '__ne__',\n",
       " '__new__',\n",
       " '__or__',\n",
       " '__reduce__',\n",
       " '__reduce_ex__',\n",
       " '__repr__',\n",
       " '__reversed__',\n",
       " '__ror__',\n",
       " '__setattr__',\n",
       " '__setitem__',\n",
       " '__sizeof__',\n",
       " '__str__',\n",
       " '__subclasshook__',\n",
       " 'clear',\n",
       " 'copy',\n",
       " 'fromkeys',\n",
       " 'get',\n",
       " 'items',\n",
       " 'keys',\n",
       " 'pop',\n",
       " 'popitem',\n",
       " 'setdefault',\n",
       " 'update',\n",
       " 'values']"
      ]
     },
     "execution_count": 6,
     "metadata": {},
     "output_type": "execute_result"
    }
   ],
   "source": [
    "dir(dict)"
   ]
  },
  {
   "cell_type": "code",
   "execution_count": 10,
   "metadata": {},
   "outputs": [
    {
     "data": {
      "text/plain": [
       "dict_values(['bking', 'wqueen', 'bbishop', 'bqueen', 'wking'])"
      ]
     },
     "execution_count": 10,
     "metadata": {},
     "output_type": "execute_result"
    }
   ],
   "source": [
    "chessBoard.values()"
   ]
  },
  {
   "cell_type": "code",
   "execution_count": null,
   "metadata": {},
   "outputs": [
    {
     "ename": "AttributeError",
     "evalue": "'dict' object has no attribute 'contains'",
     "output_type": "error",
     "traceback": [
      "\u001b[1;31m---------------------------------------------------------------------------\u001b[0m",
      "\u001b[1;31mAttributeError\u001b[0m                            Traceback (most recent call last)",
      "Cell \u001b[1;32mIn[22], line 1\u001b[0m\n\u001b[1;32m----> 1\u001b[0m \u001b[38;5;28;01mif\u001b[39;00m \u001b[43mchessBoard\u001b[49m\u001b[38;5;241;43m.\u001b[39;49m\u001b[43mcontains\u001b[49m([\u001b[38;5;124m'\u001b[39m\u001b[38;5;124mbking\u001b[39m\u001b[38;5;124m'\u001b[39m, \u001b[38;5;124m'\u001b[39m\u001b[38;5;124mwking\u001b[39m\u001b[38;5;124m'\u001b[39m]):\n\u001b[0;32m      2\u001b[0m     \u001b[38;5;28mprint\u001b[39m(\u001b[38;5;124m\"\u001b[39m\u001b[38;5;124mSim\u001b[39m\u001b[38;5;124m\"\u001b[39m)\n",
      "\u001b[1;31mAttributeError\u001b[0m: 'dict' object has no attribute 'contains'"
     ]
    }
   ],
   "source": []
  },
  {
   "cell_type": "code",
   "execution_count": null,
   "metadata": {},
   "outputs": [
    {
     "data": {
      "text/plain": [
       "dict_items([('1h', 'bking'), ('6c', 'wqueen'), ('2g', 'bbishop'), ('5h', 'bqueen'), ('3e', 'wking')])"
      ]
     },
     "execution_count": 25,
     "metadata": {},
     "output_type": "execute_result"
    }
   ],
   "source": [
    "chessBoard.items() # "
   ]
  },
  {
   "cell_type": "code",
   "execution_count": 50,
   "metadata": {},
   "outputs": [
    {
     "data": {
      "text/plain": [
       "6"
      ]
     },
     "execution_count": 50,
     "metadata": {},
     "output_type": "execute_result"
    }
   ],
   "source": [
    "len(chessBoard)"
   ]
  },
  {
   "cell_type": "code",
   "execution_count": 42,
   "metadata": {},
   "outputs": [
    {
     "name": "stdout",
     "output_type": "stream",
     "text": [
      "{'bking': 1, 'wqueen': 1, 'bbishop': 2, 'bqueen': 1, 'wking': 1}\n",
      "5\n"
     ]
    }
   ],
   "source": [
    "chessBoard_count = {}\n",
    "numPieces = 0\n",
    "for i in list(chessBoard.values()):\n",
    "    chessBoard_count[i] = chessBoard_count.get(i, 0) + 1\n",
    "print(chessBoard_count) # {'bking': 1, 'wqueen': 1, 'bbishop': 2, 'bqueen': 1, 'wking': 1} # dict = 'string values':  # player inventory\n",
    "if chessBoard_count['bking'] > 1:\n",
    "    print(\"There are too many black kings on the board.\")\n",
    "    #return False\n",
    "elif chessBoard_count['wking'] > 1:\n",
    "    print(\"There are too many white kings on the board.\")\n",
    "    #return False\n",
    "for v in chessBoard_count.values():\n",
    "    numPieces += 1\n",
    "print(numPieces) # 5"
   ]
  },
  {
   "cell_type": "code",
   "execution_count": 31,
   "metadata": {},
   "outputs": [
    {
     "name": "stdout",
     "output_type": "stream",
     "text": [
      "Sim\n"
     ]
    }
   ],
   "source": [
    "if 'bking' in chessBoard.values():# and chessBoard['bking']<=1: #, 'wking']:\n",
    "    print(\"Sim\")"
   ]
  },
  {
   "cell_type": "code",
   "execution_count": null,
   "metadata": {},
   "outputs": [
    {
     "name": "stdout",
     "output_type": "stream",
     "text": [
      "{'bking': 1, 'wqueen': 1, 'bbishop': 2, 'bqueen': 1, 'wking': 1}\n",
      "4\n",
      "2\n"
     ]
    }
   ],
   "source": [
    "chessBoard_count = {}\n",
    "black_pieces=0\n",
    "white_pieces = 0\n",
    "for i in list(chessBoard.values()):\n",
    "    chessBoard_count[i] = chessBoard_count.get(i, 0) + 1\n",
    "    if i[0] == 'b':\n",
    "        black_pieces += 1\n",
    "    elif i[0] == 'w':\n",
    "        white_pieces += 1\n",
    "print(chessBoard_count)\n",
    "print(black_pieces) # 4\n",
    "print(white_pieces) # 2\n",
    "#if chessBoard_count['king'].\n"
   ]
  },
  {
   "cell_type": "code",
   "execution_count": null,
   "metadata": {},
   "outputs": [
    {
     "data": {
      "text/plain": [
       "dict_keys(['bking', 'wqueen', 'bbishop', 'bqueen', 'wking'])"
      ]
     },
     "execution_count": 57,
     "metadata": {},
     "output_type": "execute_result"
    }
   ],
   "source": [
    "for piece in chessBoard_count.keys():\n",
    "    if "
   ]
  },
  {
   "cell_type": "code",
   "execution_count": 63,
   "metadata": {},
   "outputs": [
    {
     "name": "stdout",
     "output_type": "stream",
     "text": [
      "Red\n",
      "Yellow\n",
      "Red\n",
      "Red\n",
      "Red\n",
      "Yellow\n",
      "Red\n"
     ]
    }
   ],
   "source": [
    "for i in chessBoard_count:\n",
    "        if i[0] != 'b':\n",
    "                print('Yellow')\n",
    "        if i[0] in ['b', 'w']:\n",
    "                print('Red')"
   ]
  },
  {
   "cell_type": "code",
   "execution_count": null,
   "metadata": {},
   "outputs": [],
   "source": [
    "not in ['b', 'w'"
   ]
  },
  {
   "cell_type": "code",
   "execution_count": null,
   "metadata": {},
   "outputs": [
    {
     "name": "stdout",
     "output_type": "stream",
     "text": [
      "There are invalid pieces on the board.\n"
     ]
    },
    {
     "data": {
      "text/plain": [
       "False"
      ]
     },
     "execution_count": 84,
     "metadata": {},
     "output_type": "execute_result"
    }
   ],
   "source": [
    "def isValidChessBoard(chessBoard):\n",
    "    \"\"\"\n",
    "    Check if the chess board is valid.\n",
    "    :param chessBoard: dict\n",
    "    :return: bool\n",
    "    \"\"\"\n",
    "    chessBoard_count = {}\n",
    "    numPieces = 0\n",
    "    black_pieces=0\n",
    "    white_pieces = 0\n",
    "\n",
    "    for i in list(chessBoard.values()):\n",
    "        chessBoard_count[i] = chessBoard_count.get(i, 0) + 1 # count number of pieces of each type\n",
    "        if i[0] == 'b':\n",
    "            black_pieces += 1 # count black pieces\n",
    "        elif i[0] == 'w':\n",
    "            white_pieces += 1 # count white pieces\n",
    "\n",
    "    if chessBoard_count.get('bking', 0) > 1:\n",
    "        print(\"There are too many black kings on the board.\")\n",
    "        return False\n",
    "    elif chessBoard_count.get('wking', 0) > 1:\n",
    "        print(\"There are too many white kings on the board.\")\n",
    "        return False\n",
    "    elif black_pieces > 16:\n",
    "        print(\"There are too many black pieces on the board.\")\n",
    "        return False\n",
    "    elif white_pieces > 16:\n",
    "        print(\"🔴 RULE 4: too many white pieces on the board.\")\n",
    "        return False\n",
    "    elif len(chessBoard) > 32:\n",
    "        print(\"🔴 RULE 5: Too many pieces on the board.\")\n",
    "        return False\n",
    "    elif chessBoard_count.get('bpawn', 0) > 8 or chessBoard_count.get('wpawn', 0) > 8:\n",
    "        print(\"🔴 RULE 6:   Too many pawns.\")\n",
    "        return False\n",
    "    \n",
    "    for i in list(chessBoard_count):\n",
    "        if i[0] != 'b' and i[0] != 'w':\n",
    "            print(\"There are too many pieces on the board.\")\n",
    "            return False\n",
    "        elif i[1:] not in ['pawn', 'king', 'queen', 'rook', 'bishop', 'knight']:  #!= 'king' or i[1:] != 'queen' or i[1:] != 'rook' or i[1:] != 'bishop' or i[1:] != 'knight':\n",
    "                print(\"There are invalid pieces on the board.\")\n",
    "                return False\n",
    "    \n",
    "    for i in chessBoard.keys():\n",
    "        if len(i) !=2:\n",
    "            print('Position is not valid: number')\n",
    "            return False\n",
    "        elif i[0] not in 'abcdefgh':\n",
    "            print('Position is not valid: x-axis')\n",
    "            return False\n",
    "        elif i[1] not in '12345678':\n",
    "            print('Position is not valid: y-axis')\n",
    "            return False\n",
    "    return True\n",
    "        \n",
    "        # for v in chessBoard_count.values():\n",
    "        #     numPieces += 1\n",
    "        #     if numPieces > 32:\n",
    "        #         print(\"There are too many pieces on the board.\")\n",
    "        #         return False\n",
    "    \n",
    "\n",
    "    \n",
    "    for i in list(chessBoard.values()):\n",
    "        chessBoard_count[i] = chessBoard_count.get(i, 0) + 1\n",
    "    print(chessBoard_count) # {'bking': 1, 'wqueen': 1, 'bbishop': 2, 'bqueen': 1, 'wking': 1} # dict = 'string values':  # player inventory\n",
    "    \n",
    "    # if .contains 'bking'chessBoard.values(): #, 'wking']:\n",
    "    #     print(\"Sim\")\n",
    "    \n",
    "isValidChessBoard({\n",
    "    'e1': 'wking', 'e8': 'bking',\n",
    "        'd1': 'wqueen', 'd8': 'bqueen',\n",
    "        'a1': 'wrook', 'h1': 'wrook',\n",
    "        'a8': 'brook', 'h8': 'brook',\n",
    "        'b1': 'wknight', 'g1': 'wknight',\n",
    "        'b8': 'bknight', 'g8': 'bknight',\n",
    "        'c1': 'wbishop', 'f1': 'wbishop',\n",
    "        'c8': 'bbishop', 'f8': 'bbishop',\n",
    "        'a2': 'wpawn', 'b2': 'wpawn', 'c2': 'wpawn', 'd2': 'wpawn',\n",
    "        'e2': 'wpawn', 'f2': 'wpawn', 'g2': 'wpawn', 'h2': 'wpawn',\n",
    "        'a7': 'bpawn', 'b7': 'bpawn', 'c7': 'bpawn', 'd7': 'bpawn',\n",
    "        'e7': 'bpawn', 'f7': 'bpawn', 'g7': 'bpawn', 'h7': 'bpawn',\n",
    "})"
   ]
  },
  {
   "cell_type": "code",
   "execution_count": null,
   "metadata": {},
   "outputs": [],
   "source": [
    "for i in list(chessBoard_count):\n",
    "    "
   ]
  },
  {
   "cell_type": "code",
   "execution_count": 82,
   "metadata": {},
   "outputs": [
    {
     "name": "stdout",
     "output_type": "stream",
     "text": [
      "['bking', 'wqueen', 'bbishop', 'bqueen', 'wking']\n"
     ]
    },
    {
     "data": {
      "text/plain": [
       "'w'"
      ]
     },
     "execution_count": 82,
     "metadata": {},
     "output_type": "execute_result"
    }
   ],
   "source": [
    "print(list(chessBoard_count))\n",
    "i[0]"
   ]
  },
  {
   "cell_type": "code",
   "execution_count": 67,
   "metadata": {},
   "outputs": [],
   "source": [
    "# from chessboard import isValidChessBoard\n",
    "\n",
    "def test_valid_board():\n",
    "    board = {\n",
    "        'e1': 'wking', 'e8': 'bking',\n",
    "        'd1': 'wqueen', 'd8': 'bqueen',\n",
    "        'a1': 'wrook', 'h1': 'wrook',\n",
    "        'a8': 'brook', 'h8': 'brook',\n",
    "        'b1': 'wknight', 'g1': 'wknight',\n",
    "        'b8': 'bknight', 'g8': 'bknight',\n",
    "        'c1': 'wbishop', 'f1': 'wbishop',\n",
    "        'c8': 'bbishop', 'f8': 'bbishop',\n",
    "        'a2': 'wpawn', 'b2': 'wpawn', 'c2': 'wpawn', 'd2': 'wpawn',\n",
    "        'e2': 'wpawn', 'f2': 'wpawn', 'g2': 'wpawn', 'h2': 'wpawn',\n",
    "        'a7': 'bpawn', 'b7': 'bpawn', 'c7': 'bpawn', 'd7': 'bpawn',\n",
    "        'e7': 'bpawn', 'f7': 'bpawn', 'g7': 'bpawn', 'h7': 'bpawn',\n",
    "    }\n",
    "    assert isValidChessBoard(board) == True\n",
    "\n",
    "def test_missing_king():\n",
    "    board = {\n",
    "        'e8': 'bking',\n",
    "        'e1': 'wqueen'  # Missing white king\n",
    "    }\n",
    "    assert not isValidChessBoard(board)\n",
    "\n",
    "def test_extra_black_king():\n",
    "    board = {\n",
    "        'e1': 'wking', 'e8': 'bking',\n",
    "        'd5': 'bking'  # Extra black king\n",
    "    }\n",
    "    assert not isValidChessBoard(board)\n",
    "\n",
    "def test_too_many_pawns():\n",
    "    board = {\n",
    "        'e1': 'wking', 'e8': 'bking',\n",
    "        'a2': 'wpawn', 'b2': 'wpawn', 'c2': 'wpawn', 'd2': 'wpawn',\n",
    "        'e2': 'wpawn', 'f2': 'wpawn', 'g2': 'wpawn', 'h2': 'wpawn',\n",
    "        'a3': 'wpawn'  # One extra\n",
    "    }\n",
    "    assert not isValidChessBoard(board)\n",
    "\n",
    "def test_invalid_piece_name():\n",
    "    board = {\n",
    "        'e1': 'wking', 'e8': 'bking',\n",
    "        'a2': 'wbanana'\n",
    "    }\n",
    "    assert not isValidChessBoard(board)\n",
    "\n",
    "def test_invalid_piece_color():\n",
    "    board = {\n",
    "        'e1': 'wking', 'e8': 'bking',\n",
    "        'a2': 'zrook'\n",
    "    }\n",
    "    assert not isValidChessBoard(board)\n",
    "\n",
    "def test_invalid_position_file():\n",
    "    board = {\n",
    "        'e1': 'wking', 'e8': 'bking',\n",
    "        'i3': 'wpawn'\n",
    "    }\n",
    "    assert not isValidChessBoard(board)\n",
    "\n",
    "def test_invalid_position_rank():\n",
    "    board = {\n",
    "        'e1': 'wking', 'e8': 'bking',\n",
    "        'a9': 'wpawn'\n",
    "    }\n",
    "    assert not isValidChessBoard(board)\n",
    "\n",
    "def test_too_many_white_pieces():\n",
    "    board = {\n",
    "        'e1': 'wking', 'e8': 'bking',\n",
    "        'a2': 'wpawn', 'b2': 'wpawn', 'c2': 'wpawn',\n",
    "        'd2': 'wpawn', 'e2': 'wpawn', 'f2': 'wpawn',\n",
    "        'g2': 'wpawn', 'h2': 'wpawn',\n",
    "        'a3': 'wrook', 'b3': 'wrook', 'c3': 'wrook',\n",
    "        'd3': 'wrook', 'e3': 'wrook', 'f3': 'wrook',\n",
    "        'g3': 'wrook', 'h3': 'wrook',  # 9 white pieces + king = 10\n",
    "        'g4': 'wqueen', 'h4': 'wbishop', 'a4': 'wbishop',\n",
    "        'c4': 'wknight', 'd4': 'wknight', 'e4': 'wrook',\n",
    "    }\n",
    "    assert not isValidChessBoard(board)"
   ]
  },
  {
   "cell_type": "code",
   "execution_count": null,
   "metadata": {},
   "outputs": [],
   "source": [
    "isValidChessBoard(chessBoard)"
   ]
  },
  {
   "cell_type": "code",
   "execution_count": null,
   "metadata": {},
   "outputs": [],
   "source": [
    "stuff = {'rope': 1, 'torch': 6, 'gold coin': 42, 'dagger': 1, 'arrow': 12}"
   ]
  },
  {
   "cell_type": "code",
   "execution_count": null,
   "metadata": {},
   "outputs": [],
   "source": [
    "dragonLoot = ['gold coin', 'dagger', 'gold coin', 'gold coin', 'ruby']"
   ]
  },
  {
   "cell_type": "code",
   "execution_count": 4,
   "metadata": {},
   "outputs": [],
   "source": [
    "for i in dragonLoot:\n",
    "    stuff[i] = dragonLoot.count(i) "
   ]
  },
  {
   "cell_type": "code",
   "execution_count": 5,
   "metadata": {},
   "outputs": [
    {
     "name": "stdout",
     "output_type": "stream",
     "text": [
      "{'rope': 1, 'torch': 6, 'gold coin': 3, 'dagger': 1, 'arrow': 12, 'ruby': 1}\n"
     ]
    }
   ],
   "source": [
    "print(stuff)"
   ]
  },
  {
   "cell_type": "code",
   "execution_count": 5,
   "metadata": {},
   "outputs": [
    {
     "name": "stdout",
     "output_type": "stream",
     "text": [
      "Inventory:\n",
      "1 rope\n",
      "6 torch\n",
      "42 gold coin\n",
      "1 dagger\n",
      "12 arrow\n",
      "Total number of items: 62\n"
     ]
    }
   ],
   "source": [
    "def displayInventory(inventory):\n",
    "    print(\"Inventory:\")\n",
    "    item_total = 0\n",
    "    for k, v in inventory.items():\n",
    "        print(str(v) + ' ' + k)\n",
    "        item_total += v\n",
    "    print(\"Total number of items: \" + str(item_total))\n",
    "displayInventory(stuff)"
   ]
  },
  {
   "cell_type": "code",
   "execution_count": 6,
   "metadata": {},
   "outputs": [
    {
     "data": {
      "text/plain": [
       "['__class__',\n",
       " '__class_getitem__',\n",
       " '__contains__',\n",
       " '__delattr__',\n",
       " '__delitem__',\n",
       " '__dir__',\n",
       " '__doc__',\n",
       " '__eq__',\n",
       " '__format__',\n",
       " '__ge__',\n",
       " '__getattribute__',\n",
       " '__getitem__',\n",
       " '__gt__',\n",
       " '__hash__',\n",
       " '__init__',\n",
       " '__init_subclass__',\n",
       " '__ior__',\n",
       " '__iter__',\n",
       " '__le__',\n",
       " '__len__',\n",
       " '__lt__',\n",
       " '__ne__',\n",
       " '__new__',\n",
       " '__or__',\n",
       " '__reduce__',\n",
       " '__reduce_ex__',\n",
       " '__repr__',\n",
       " '__reversed__',\n",
       " '__ror__',\n",
       " '__setattr__',\n",
       " '__setitem__',\n",
       " '__sizeof__',\n",
       " '__str__',\n",
       " '__subclasshook__',\n",
       " 'clear',\n",
       " 'copy',\n",
       " 'fromkeys',\n",
       " 'get',\n",
       " 'items',\n",
       " 'keys',\n",
       " 'pop',\n",
       " 'popitem',\n",
       " 'setdefault',\n",
       " 'update',\n",
       " 'values']"
      ]
     },
     "execution_count": 6,
     "metadata": {},
     "output_type": "execute_result"
    }
   ],
   "source": [
    "dir(dict)"
   ]
  },
  {
   "cell_type": "code",
   "execution_count": 8,
   "metadata": {},
   "outputs": [
    {
     "data": {
      "text/plain": [
       "['__add__',\n",
       " '__class__',\n",
       " '__class_getitem__',\n",
       " '__contains__',\n",
       " '__delattr__',\n",
       " '__delitem__',\n",
       " '__dir__',\n",
       " '__doc__',\n",
       " '__eq__',\n",
       " '__format__',\n",
       " '__ge__',\n",
       " '__getattribute__',\n",
       " '__getitem__',\n",
       " '__gt__',\n",
       " '__hash__',\n",
       " '__iadd__',\n",
       " '__imul__',\n",
       " '__init__',\n",
       " '__init_subclass__',\n",
       " '__iter__',\n",
       " '__le__',\n",
       " '__len__',\n",
       " '__lt__',\n",
       " '__mul__',\n",
       " '__ne__',\n",
       " '__new__',\n",
       " '__reduce__',\n",
       " '__reduce_ex__',\n",
       " '__repr__',\n",
       " '__reversed__',\n",
       " '__rmul__',\n",
       " '__setattr__',\n",
       " '__setitem__',\n",
       " '__sizeof__',\n",
       " '__str__',\n",
       " '__subclasshook__',\n",
       " 'append',\n",
       " 'clear',\n",
       " 'copy',\n",
       " 'count',\n",
       " 'extend',\n",
       " 'index',\n",
       " 'insert',\n",
       " 'pop',\n",
       " 'remove',\n",
       " 'reverse',\n",
       " 'sort']"
      ]
     },
     "execution_count": 8,
     "metadata": {},
     "output_type": "execute_result"
    }
   ],
   "source": [
    "dir(list)"
   ]
  },
  {
   "cell_type": "code",
   "execution_count": null,
   "metadata": {},
   "outputs": [],
   "source": []
  },
  {
   "cell_type": "code",
   "execution_count": null,
   "metadata": {},
   "outputs": [
    {
     "ename": "NameError",
     "evalue": "name 'inventory' is not defined",
     "output_type": "error",
     "traceback": [
      "\u001b[1;31m---------------------------------------------------------------------------\u001b[0m",
      "\u001b[1;31mNameError\u001b[0m                                 Traceback (most recent call last)",
      "Cell \u001b[1;32mIn[4], line 1\u001b[0m\n\u001b[1;32m----> 1\u001b[0m \u001b[43minventory\u001b[49m\n",
      "\u001b[1;31mNameError\u001b[0m: name 'inventory' is not defined"
     ]
    }
   ],
   "source": [
    "def addToInventory(inventory, addedItems):\n",
    "# your code goes here\n",
    "    items = inventory.keys() \n",
    "    for i in items:\n",
    "        if set(addedItems in items:\n",
    "            inventory{i}: inventory{i}.values +   \n",
    "        else:\n",
    "            inventory{i}: i.count()\n",
    "    inv = {'gold coin': 42, 'rope': 1}\n",
    "    dragonLoot = ['gold coin', 'dagger', 'gold coin', 'gold coin', 'ruby']\n",
    "    inv = addToInventory(inv, dragonLoot)\n",
    "displayInventory(inv)"
   ]
  },
  {
   "cell_type": "code",
   "execution_count": null,
   "metadata": {},
   "outputs": [],
   "source": [
    "# passar addedItems para um dicionário\n",
    "\n",
    "#passar uma lista para um dicionário\n",
    "def list_to_dictionary_inventory(added_items):\n",
    "    inventory_added = {}\n",
    "    for i in addedItems:\n",
    "        inventory_added[str(i)] = \n",
    "        i.count()"
   ]
  },
  {
   "cell_type": "code",
   "execution_count": null,
   "metadata": {},
   "outputs": [],
   "source": [
    "def isValidChessBoard(chessBoard):\n",
    "    vality_king = 1\n",
    "    if\n"
   ]
  }
 ],
 "metadata": {
  "kernelspec": {
   "display_name": "base",
   "language": "python",
   "name": "python3"
  },
  "language_info": {
   "codemirror_mode": {
    "name": "ipython",
    "version": 3
   },
   "file_extension": ".py",
   "mimetype": "text/x-python",
   "name": "python",
   "nbconvert_exporter": "python",
   "pygments_lexer": "ipython3",
   "version": "3.10.9"
  }
 },
 "nbformat": 4,
 "nbformat_minor": 2
}
